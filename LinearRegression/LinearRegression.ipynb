{
 "cells": [
  {
   "cell_type": "markdown",
   "metadata": {},
   "source": [
    "# Linear Regression\n",
    "- Linear Regression is one of the easiest to understand and more commonly used algorithm for regression related tasks. The algorithm's main formula is, `y = mx+c`. Where,\n",
    "    - `y` is the predicted value/dependent variable that the model tries to output.\n",
    "    - `x` is the input value/ independent variable that the model uses to make the prediction.\n",
    "    - `m` is the slope of the line. It is also called the weight of a model. `m` determines the effect of x on y.\n",
    "    - `b` is the bias, whihc indicates where the line croses the y-axis when x=0.\n"
   ]
  },
  {
   "cell_type": "markdown",
   "metadata": {},
   "source": []
  }
 ],
 "metadata": {
  "kernelspec": {
   "display_name": "venv",
   "language": "python",
   "name": "python3"
  },
  "language_info": {
   "codemirror_mode": {
    "name": "ipython",
    "version": 3
   },
   "file_extension": ".py",
   "mimetype": "text/x-python",
   "name": "python",
   "nbconvert_exporter": "python",
   "pygments_lexer": "ipython3",
   "version": "3.12.8"
  }
 },
 "nbformat": 4,
 "nbformat_minor": 2
}
