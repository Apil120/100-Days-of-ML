{
 "cells": [
  {
   "cell_type": "markdown",
   "metadata": {},
   "source": [
    "# Pandas:\n",
    "- Pandas is a powerful python library for data analysis and manipulation. It is widely used in fields relating to data analytics and data science along with ML. Pandas can read data not only from excel (.csv/.xlsx) files but also from SQL databases."
   ]
  },
  {
   "cell_type": "markdown",
   "metadata": {},
   "source": [
    "# Basic pandas functions:\n",
    "- Pandas has a lot of inbuilt functions for data analysis and manipulation. Some of them are listed below:\n",
    "\n",
    "    - `read_csv()` &#8594; Reads the data from csv files.\n",
    "    - `read_excel()` &#8594; Reads the data from excel files.\n",
    "    - `apply()` &#8594; Applies a function to the specified row of the DataFrame.\n",
    "    - `fillna()` &#8594; Fills the empty data of the DataFrame with an specified value (normally mean or median i used.)\n",
    "    - `describe()` &#8594; Generates  information like mean,median,sum and so on for the DataFrame.\n",
    "    - `value_counts()` &#8594; Returns the frequenct of a certain value in a specified column of the DataFrame.\n",
    "    - `to_csv()` &#8594; Saves the DataFrame as a CSV file."
   ]
  },
  {
   "cell_type": "markdown",
   "metadata": {},
   "source": []
  }
 ],
 "metadata": {
  "kernelspec": {
   "display_name": "venv",
   "language": "python",
   "name": "python3"
  },
  "language_info": {
   "name": "python",
   "version": "3.12.8"
  }
 },
 "nbformat": 4,
 "nbformat_minor": 2
}
