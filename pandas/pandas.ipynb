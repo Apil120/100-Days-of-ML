{
 "cells": [
  {
   "cell_type": "markdown",
   "metadata": {},
   "source": [
    "# Pandas:\n",
    "- Pandas is a powerful python library for data analysis and manipulation. It is widely used in fields relating to data analytics and data science along with ML. Pandas can read data not only from excel (.csv/.xlsx) files but also from SQL databases."
   ]
  },
  {
   "cell_type": "markdown",
   "metadata": {},
   "source": [
    "# Basic pandas functions:\n",
    "- `read_csv()` &#8594; Reads the data from csv files.\n",
    "- `read_excel()` &#8594; Reads the data from excel files."
   ]
  },
  {
   "cell_type": "markdown",
   "metadata": {},
   "source": []
  }
 ],
 "metadata": {
  "kernelspec": {
   "display_name": "venv",
   "language": "python",
   "name": "python3"
  },
  "language_info": {
   "name": "python",
   "version": "3.12.8"
  }
 },
 "nbformat": 4,
 "nbformat_minor": 2
}
