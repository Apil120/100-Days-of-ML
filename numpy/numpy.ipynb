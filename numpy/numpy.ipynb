{
 "cells": [
  {
   "cell_type": "markdown",
   "metadata": {},
   "source": [
    "## Introduction to NumPy\n",
    "- Numpy is a multidimensional array library. Numpy can be used to store data like 1D,2D,3D or 4D arrays.\n",
    "\n",
    "**Why Numpy?**\n",
    "\n",
    "- Numpy Arrays are faster than lists as numpy uses fixed type (all data in array is of a singular type).\n",
    "- Lists contain each element as a full python object with the metadata of the object as well, whereas Numpy doesn't do that and stores only the element\n",
    "- Numpy vectorizes an operation in arrays(the whole operation is done in one go for the entire array rather than doing it individually.)\n",
    "- Numpy stores data in a sequence ([data1,data2,...datan]), whereas python lists don't do this.\n",
    "\n",
    "Now that we have learned a little bit about NumPy and it's advantages, let's learn about NumPy arrays, the building block of NumPy.  "
   ]
  },
  {
   "cell_type": "code",
   "execution_count": 3,
   "metadata": {},
   "outputs": [],
   "source": [
    "#Firstly we need to import NumPy.\n",
    "import numpy as np"
   ]
  },
  {
   "cell_type": "markdown",
   "metadata": {},
   "source": [
    "Let's create our first NumPy array! To achieve this we can use `np.array()` method on any iterable."
   ]
  },
  {
   "cell_type": "code",
   "execution_count": 9,
   "metadata": {},
   "outputs": [
    {
     "name": "stdout",
     "output_type": "stream",
     "text": [
      "[0 1 2 3 4 5]\n"
     ]
    }
   ],
   "source": [
    "nums = [i for i in range(6)]#Python list of numbers from 0-5\n",
    "nums_array = np.array(nums)\n",
    "print(nums_array)"
   ]
  },
  {
   "cell_type": "markdown",
   "metadata": {},
   "source": [
    "The array looks same as a python list as it is 1D. So, let's create a 2D NumPy array and see how it differs from the 1D array."
   ]
  },
  {
   "cell_type": "markdown",
   "metadata": {},
   "source": [
    "**When creating array of N dimensions, we need to pass N lists in the np.array method inside a tuple/list**"
   ]
  },
  {
   "cell_type": "code",
   "execution_count": 16,
   "metadata": {},
   "outputs": [],
   "source": [
    "twod_array = np.array([[1,2],[3,4]])"
   ]
  },
  {
   "cell_type": "code",
   "execution_count": 21,
   "metadata": {},
   "outputs": [
    {
     "name": "stdout",
     "output_type": "stream",
     "text": [
      "[[1 2]\n",
      " [3 4]]\n"
     ]
    }
   ],
   "source": [
    "print(twod_array)"
   ]
  },
  {
   "cell_type": "markdown",
   "metadata": {},
   "source": [
    "# Basic array attributes:\n",
    "- .ndim &#8594; the number of dimensions(axes) of the array.\n",
    "- .shape &#8594; dimensions of the array in (m,n) format\n",
    "- .size &#8594; total number os the array (is equal to the product os elements of .shape)"
   ]
  },
  {
   "cell_type": "code",
   "execution_count": null,
   "metadata": {},
   "outputs": [],
   "source": []
  }
 ],
 "metadata": {
  "kernelspec": {
   "display_name": "venv",
   "language": "python",
   "name": "python3"
  },
  "language_info": {
   "codemirror_mode": {
    "name": "ipython",
    "version": 3
   },
   "file_extension": ".py",
   "mimetype": "text/x-python",
   "name": "python",
   "nbconvert_exporter": "python",
   "pygments_lexer": "ipython3",
   "version": "3.12.8"
  }
 },
 "nbformat": 4,
 "nbformat_minor": 2
}
