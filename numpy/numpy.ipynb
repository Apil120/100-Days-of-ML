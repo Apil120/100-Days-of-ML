{
 "cells": [
  {
   "cell_type": "markdown",
   "metadata": {},
   "source": [
    "## Introduction to NumPy\n",
    "- Numpy is a multidimensional array library. Numpy can be used to store data like 1D,2D,3D or 4D arrays.\n",
    "\n",
    "**Why Numpy?**\n",
    "\n",
    "- Numpy Arrays are faster than lists as numpy uses fixed type (all data in array is of a singular type).\n",
    "- Lists contain each element as a full python object with the metadata of the object as well, whereas Numpy doesn't do that and stores only the element\n",
    "- Numpy vectorizes an operation in arrays(the whole operation is done in one go for the entire array rather than doing it individually.)\n",
    "- Numpy stores data in a sequence ([data1,data2,...datan]), whereas python lists don't do this.\n",
    "\n",
    "Now that we have learned a little bit about NumPy and it's advantages, let's learn about NumPy arrays, the building block of NumPy.  "
   ]
  },
  {
   "cell_type": "code",
   "execution_count": 1,
   "metadata": {},
   "outputs": [],
   "source": [
    "#Firstly we need to import NumPy.\n",
    "import numpy as np"
   ]
  },
  {
   "cell_type": "markdown",
   "metadata": {},
   "source": [
    "Let's create our first NumPy array! To achieve this we can use `np.array()` method on any iterable."
   ]
  },
  {
   "cell_type": "code",
   "execution_count": 2,
   "metadata": {},
   "outputs": [
    {
     "name": "stdout",
     "output_type": "stream",
     "text": [
      "[0 1 2 3 4 5]\n"
     ]
    }
   ],
   "source": [
    "nums = [i for i in range(6)]#Python list of numbers from 0-5\n",
    "nums_array = np.array(nums)\n",
    "print(nums_array)"
   ]
  },
  {
   "cell_type": "markdown",
   "metadata": {},
   "source": [
    "The array looks same as a python list as it is 1D. So, let's create a 2D NumPy array and see how it differs from the 1D array."
   ]
  },
  {
   "cell_type": "markdown",
   "metadata": {},
   "source": [
    "**When creating array of N dimensions, we need to pass N lists in the np.array method inside a tuple/list**"
   ]
  },
  {
   "cell_type": "code",
   "execution_count": 3,
   "metadata": {},
   "outputs": [],
   "source": [
    "twod_array = np.array([[1,2],[3,4]])"
   ]
  },
  {
   "cell_type": "code",
   "execution_count": 4,
   "metadata": {},
   "outputs": [
    {
     "name": "stdout",
     "output_type": "stream",
     "text": [
      "[[1 2]\n",
      " [3 4]]\n"
     ]
    }
   ],
   "source": [
    "print(twod_array)"
   ]
  },
  {
   "cell_type": "markdown",
   "metadata": {},
   "source": [
    "# Basic array attributes:\n",
    "- .ndim &#8594; the number of dimensions(axes) of the array.\n",
    "- .shape &#8594; dimensions of the array in (m,n) format\n",
    "- .size &#8594; total number of elements in the array (is equal to the product of elements of .shape)\n",
    "- .dtype &#8594; type of the elements in array"
   ]
  },
  {
   "cell_type": "code",
   "execution_count": 5,
   "metadata": {},
   "outputs": [
    {
     "name": "stdout",
     "output_type": "stream",
     "text": [
      "Number of dimensions:2\n",
      "Shape of array:(2, 2)\n",
      "Number of elemebts in the array:4\n",
      "Data type of elements in the array:int64\n"
     ]
    }
   ],
   "source": [
    "print(f\"Number of dimensions:{twod_array.ndim}\")\n",
    "print(f\"Shape of array:{twod_array.shape}\")\n",
    "print(f\"Number of elemebts in the array:{twod_array.size}\")\n",
    "print(f\"Data type of elements in the array:{twod_array.dtype}\")"
   ]
  },
  {
   "cell_type": "markdown",
   "metadata": {},
   "source": [
    "# Array Creation:\n",
    "We saw how to create numpy arrays with python iterables, now let's look at some other ways to create numpy arrays. \n",
    "\n",
    "1) `np.zeros()` &#8594; Creates a NumPy array where all the elements are 0.\n",
    "2) `np.ones()`&#8594; Creates a NumPy array where all the elements are 1.\n",
    "3) `np.arange()`&#8594; Creates a  NumPy array with numbers in order, separated by a set gap.\n",
    "4) `np.full()` &#8594; Creates a NumPy array of ndim with the sepcified value.\n",
    "5) `np.eye()` &#8594; Creates an Identity Matrix of ndim.\n",
    "\n",
    "Code example for each of the ways is given below:"
   ]
  },
  {
   "cell_type": "code",
   "execution_count": 6,
   "metadata": {},
   "outputs": [
    {
     "name": "stdout",
     "output_type": "stream",
     "text": [
      "[[0 0 0 0 0 0 0]\n",
      " [0 0 0 0 0 0 0]\n",
      " [0 0 0 0 0 0 0]\n",
      " [0 0 0 0 0 0 0]]\n"
     ]
    }
   ],
   "source": [
    "#np.zeros():\n",
    "zeros = np.zeros(shape=(4,7),dtype=np.int8)\n",
    "print(zeros)"
   ]
  },
  {
   "cell_type": "code",
   "execution_count": 7,
   "metadata": {},
   "outputs": [
    {
     "name": "stdout",
     "output_type": "stream",
     "text": [
      "[[1 1 1 1 1 1 1]\n",
      " [1 1 1 1 1 1 1]\n",
      " [1 1 1 1 1 1 1]\n",
      " [1 1 1 1 1 1 1]]\n"
     ]
    }
   ],
   "source": [
    "#np.ones():\n",
    "ones = np.ones(shape=(4,7),dtype=np.int8)\n",
    "print(ones)"
   ]
  },
  {
   "cell_type": "code",
   "execution_count": 8,
   "metadata": {},
   "outputs": [
    {
     "name": "stdout",
     "output_type": "stream",
     "text": [
      "[4.  4.6 5.2 5.8 6.4]\n"
     ]
    }
   ],
   "source": [
    "#np.arange():\n",
    "arange = np.arange(4,7,0.6)#follows the format (start,stop,step)\n",
    "print(arange)"
   ]
  },
  {
   "cell_type": "code",
   "execution_count": 9,
   "metadata": {},
   "outputs": [
    {
     "name": "stdout",
     "output_type": "stream",
     "text": [
      "[[8 8]\n",
      " [8 8]]\n"
     ]
    }
   ],
   "source": [
    "#np.full()\n",
    "full = np.full(shape=(2,2),fill_value=8)\n",
    "print(full)"
   ]
  },
  {
   "cell_type": "code",
   "execution_count": 10,
   "metadata": {},
   "outputs": [
    {
     "name": "stdout",
     "output_type": "stream",
     "text": [
      "[[1. 0. 0. 0. 0.]\n",
      " [0. 1. 0. 0. 0.]\n",
      " [0. 0. 1. 0. 0.]]\n"
     ]
    }
   ],
   "source": [
    "#np.eye()\n",
    "identity = np.eye(3,5)\n",
    "print(identity)"
   ]
  },
  {
   "cell_type": "markdown",
   "metadata": {},
   "source": [
    "## Indexing, Slicing and Boolean indexing in NumPy\n",
    "\n",
    "- Basic indexing  is quite similar to how indexing concepts work for python lists.\n",
    "- Slicing is also very similar to python list slicing.\n",
    "- Boolean indexing is using certain conditions in the indexes themselves to get certain parts of the Array.\n"
   ]
  },
  {
   "cell_type": "code",
   "execution_count": 11,
   "metadata": {},
   "outputs": [
    {
     "name": "stdout",
     "output_type": "stream",
     "text": [
      "[4 5 6]\n",
      "6\n",
      "5\n"
     ]
    }
   ],
   "source": [
    "#Basic indexing:\n",
    "array = np.array([[1,2,3],[4,5,6]])\n",
    "print(array[1])#Prints the list provided in the .array() method in the 1st index.([4,5,6] in this case)\n",
    "print(array[1,2]) #Prints the element in the 2 index of the list in 1 index of the array.\n",
    "print(array[-1,-2]) #Prints the  element in -2 position of the list in the -1 index of array."
   ]
  },
  {
   "cell_type": "markdown",
   "metadata": {},
   "source": [
    "- Reversing a NumPy array:\n",
    "    - To reverse a NumPy array, we can either user the `np.flip()` method or use the notation `array[::-1]`, using np.flip() also flips the elements inside the array whereas using the notation only flips the array itself. "
   ]
  },
  {
   "cell_type": "code",
   "execution_count": 12,
   "metadata": {},
   "outputs": [
    {
     "name": "stdout",
     "output_type": "stream",
     "text": [
      "[[6 5 4]\n",
      " [3 2 1]]\n"
     ]
    }
   ],
   "source": [
    "print(np.flip(array))"
   ]
  },
  {
   "cell_type": "code",
   "execution_count": 13,
   "metadata": {},
   "outputs": [
    {
     "name": "stdout",
     "output_type": "stream",
     "text": [
      "[[4 5 6]\n",
      " [1 2 3]]\n"
     ]
    }
   ],
   "source": [
    "print(array[::-1])"
   ]
  },
  {
   "cell_type": "markdown",
   "metadata": {},
   "source": [
    "# Slicing:\n",
    "- As mentioned previously, slicing NumPy arrays is very similar to slicing python lists. Let's quickly go over slicing NumPy arrays.\n",
    "- Similar to lists in python , NumPy arrays follow the `[start:stop:step]` format, where start is inclusive (the element in the provided index is included in the output) and stop is exclusive (the element in the provided index is excluded in the output) and step is simply the number of elements to skip in an array.  "
   ]
  },
  {
   "cell_type": "code",
   "execution_count": 14,
   "metadata": {},
   "outputs": [],
   "source": [
    "slicing_array = np.array([i for i in range(10)])"
   ]
  },
  {
   "cell_type": "code",
   "execution_count": 15,
   "metadata": {},
   "outputs": [
    {
     "name": "stdout",
     "output_type": "stream",
     "text": [
      "[2 3 4]\n",
      "[0 2 4 6 8]\n",
      "[1 2 3 4 5 6 7 8 9]\n"
     ]
    }
   ],
   "source": [
    "print(slicing_array[2:5]) # Prints elements from index 2-5 (exclusively)\n",
    "print(slicing_array[::2]) # Printing elements from the array with the step of 2. It stops at the last possible index when no start or step is defined/given. Basically prints every second element.\n",
    "print(slicing_array[1:])  # Prints elements from the first index (inclusively) to the end of the array as it is not specified."
   ]
  },
  {
   "cell_type": "code",
   "execution_count": 16,
   "metadata": {},
   "outputs": [
    {
     "name": "stdout",
     "output_type": "stream",
     "text": [
      "[7 8 9]\n",
      "[9 8 7 6 5 4 3 2 1 0]\n"
     ]
    }
   ],
   "source": [
    "print(slicing_array[-3:])#Prints elements from the 3rd element from the back \n",
    "print(slicing_array[::-1])#Prints elements from the last element (reverse order)"
   ]
  },
  {
   "cell_type": "code",
   "execution_count": 17,
   "metadata": {},
   "outputs": [
    {
     "name": "stdout",
     "output_type": "stream",
     "text": [
      "[[0 1 2 3 4 5 6 7 8 9]]\n",
      "[[0]\n",
      " [1]\n",
      " [2]\n",
      " [3]\n",
      " [4]\n",
      " [5]\n",
      " [6]\n",
      " [7]\n",
      " [8]\n",
      " [9]]\n"
     ]
    }
   ],
   "source": [
    "print(slicing_array[None,:]) # Converts array into a row vector (2D array)\n",
    "print(slicing_array[:,None]) # Conversts array into a column vecotr (2D array)"
   ]
  },
  {
   "cell_type": "markdown",
   "metadata": {},
   "source": [
    "Slicing in 2D arrays"
   ]
  },
  {
   "cell_type": "code",
   "execution_count": 18,
   "metadata": {},
   "outputs": [
    {
     "name": "stdout",
     "output_type": "stream",
     "text": [
      "[[1 2 3]\n",
      " [4 5 6]\n",
      " [7 8 9]]\n"
     ]
    }
   ],
   "source": [
    "slicing_array_2d = np.array([[1,2,3],[4,5,6],[7,8,9]])\n",
    "print(slicing_array_2d)"
   ]
  },
  {
   "cell_type": "markdown",
   "metadata": {},
   "source": [
    "- In 2D arrays, slicing works in a similar way but it takes the row and columns. It follows the format `array[row_start:row_stop:row_step,column_start:column_stop:column_step]`.\n",
    "\n",
    "row_start,column_start &#8594; inclusive\n",
    "\n",
    "row_stop,column_stop &#8594; exclusive"
   ]
  },
  {
   "cell_type": "code",
   "execution_count": 19,
   "metadata": {},
   "outputs": [
    {
     "name": "stdout",
     "output_type": "stream",
     "text": [
      "[[2 3]\n",
      " [5 6]]\n"
     ]
    }
   ],
   "source": [
    "print(slicing_array_2d[0:2,1:3]) #Slices the array from 0->2 row wise and 1->3 column wise."
   ]
  },
  {
   "cell_type": "code",
   "execution_count": 20,
   "metadata": {},
   "outputs": [
    {
     "name": "stdout",
     "output_type": "stream",
     "text": [
      "[[2]\n",
      " [8]]\n"
     ]
    }
   ],
   "source": [
    "print(slicing_array_2d[0:3:2,1:4:2]) #Slices the array from 0->3 with a step of 2  row wise and 1->4 with a step of 2.\n"
   ]
  },
  {
   "cell_type": "code",
   "execution_count": 21,
   "metadata": {},
   "outputs": [
    {
     "name": "stdout",
     "output_type": "stream",
     "text": [
      "[[4 5]\n",
      " [7 8]]\n"
     ]
    }
   ],
   "source": [
    "print(slicing_array_2d[-2:,:-1])#Slices last two rows excluding the last column"
   ]
  },
  {
   "cell_type": "code",
   "execution_count": 22,
   "metadata": {},
   "outputs": [
    {
     "name": "stdout",
     "output_type": "stream",
     "text": [
      "[[9 8 7]\n",
      " [6 5 4]\n",
      " [3 2 1]]\n"
     ]
    }
   ],
   "source": [
    "#Reversing a 2D array\n",
    "print(slicing_array_2d[::-1,::-1])"
   ]
  },
  {
   "cell_type": "markdown",
   "metadata": {},
   "source": [
    "# Boolean Indexing:\n",
    "- Boolean indexing allows us to filter elements based on the defined condition. These conditions are defined with `boolean masks`. Boolean masks are NumPy arrays containing the truth values (True/False) that corespond to each element in the array based on the condition."
   ]
  },
  {
   "cell_type": "code",
   "execution_count": 23,
   "metadata": {},
   "outputs": [],
   "source": [
    "arr = np.array([i for i in range(1,10)])\n",
    "boolean_mask = arr>2"
   ]
  },
  {
   "cell_type": "code",
   "execution_count": 24,
   "metadata": {},
   "outputs": [
    {
     "name": "stdout",
     "output_type": "stream",
     "text": [
      "[False False  True  True  True  True  True  True  True]\n"
     ]
    }
   ],
   "source": [
    "print(boolean_mask)#This is the intermediate output in boolean indexing."
   ]
  },
  {
   "cell_type": "markdown",
   "metadata": {},
   "source": [
    "In the above example we can see how each element of the `boolean_mask` corresponds to either True of False based on the condition of `arr>2`. This is similar to using conditions in a python list as shown below."
   ]
  },
  {
   "cell_type": "code",
   "execution_count": 25,
   "metadata": {},
   "outputs": [
    {
     "name": "stdout",
     "output_type": "stream",
     "text": [
      "[False, False, True, True, True, True, True, True, True]\n"
     ]
    }
   ],
   "source": [
    "#Boolean indexing in lists\n",
    "\n",
    "numbers = [i for i in range(1,10)]\n",
    "masked_list = [number>2 for number in numbers]\n",
    "print(masked_list)"
   ]
  },
  {
   "cell_type": "code",
   "execution_count": 26,
   "metadata": {},
   "outputs": [
    {
     "name": "stdout",
     "output_type": "stream",
     "text": [
      "[3 4 5 6 7 8 9]\n"
     ]
    }
   ],
   "source": [
    "#Applying the boolean mask/ using boolean indexing:\n",
    "print(arr[boolean_mask])"
   ]
  },
  {
   "cell_type": "markdown",
   "metadata": {},
   "source": [
    "So, in short, We can apply conditions to all elements of a numpy array directly through the array itself rather than having to use loops like in python lists. This is called Boolean Indexing. Now, let's take a look at boolean indexings in 2D arrays, which is very much similar to the use of boolean indexing in 1D arrays."
   ]
  },
  {
   "cell_type": "code",
   "execution_count": 27,
   "metadata": {},
   "outputs": [],
   "source": [
    "arr_2d = np.array([[1,2,3],[4,5,6],[7,8,9]])\n",
    "boolean_mask_2d = arr_2d % 2 == 0"
   ]
  },
  {
   "cell_type": "code",
   "execution_count": 28,
   "metadata": {},
   "outputs": [
    {
     "name": "stdout",
     "output_type": "stream",
     "text": [
      "[[False  True False]\n",
      " [ True False  True]\n",
      " [False  True False]]\n"
     ]
    }
   ],
   "source": [
    "print(boolean_mask_2d) #Intermediate output"
   ]
  },
  {
   "cell_type": "code",
   "execution_count": 29,
   "metadata": {},
   "outputs": [
    {
     "name": "stdout",
     "output_type": "stream",
     "text": [
      "[[False, True, False], [True, False, True], [False, True, False]]\n"
     ]
    }
   ],
   "source": [
    "#using the same condition in python lists:\n",
    "list_2d = [[1,2,3],[4,5,6],[7,8,9]]\n",
    "\n",
    "boolean_mask_2d = [[elem % 2 == 0 for elem in nested_list] for nested_list in list_2d]\n",
    "print(boolean_mask_2d)\n"
   ]
  },
  {
   "cell_type": "code",
   "execution_count": 30,
   "metadata": {},
   "outputs": [
    {
     "name": "stdout",
     "output_type": "stream",
     "text": [
      "[2 4 6 8]\n"
     ]
    }
   ],
   "source": [
    "print(arr_2d[boolean_mask_2d]) # Applying boolean mask"
   ]
  },
  {
   "cell_type": "markdown",
   "metadata": {},
   "source": [
    "# Operations in NumPy arrays:\n",
    "- In this topic, we will look at the basic,mathematical,reshaping,transposing,broadcasting and aggregation operations."
   ]
  },
  {
   "cell_type": "code",
   "execution_count": 54,
   "metadata": {},
   "outputs": [],
   "source": [
    "a = np.array([1,2,3])\n",
    "b = np.array([4,5,6])"
   ]
  },
  {
   "cell_type": "markdown",
   "metadata": {},
   "source": [
    "Basic operations like addtion and subtraction are applied to all elemenets in the array in numpy as long as the arrays have one dimension that is same size or 1. <b> Similarly, almost all operations are applied element wise (applied to all elements) in numpy arrays </b>"
   ]
  },
  {
   "cell_type": "code",
   "execution_count": 55,
   "metadata": {},
   "outputs": [
    {
     "name": "stdout",
     "output_type": "stream",
     "text": [
      "[5 7 9]\n"
     ]
    }
   ],
   "source": [
    "sum = a+b\n",
    "print(sum)"
   ]
  },
  {
   "cell_type": "code",
   "execution_count": 56,
   "metadata": {},
   "outputs": [
    {
     "name": "stdout",
     "output_type": "stream",
     "text": [
      "[-3 -3 -3]\n"
     ]
    }
   ],
   "source": [
    "difference = a-b\n",
    "print(difference)"
   ]
  },
  {
   "cell_type": "code",
   "execution_count": 57,
   "metadata": {},
   "outputs": [
    {
     "name": "stdout",
     "output_type": "stream",
     "text": [
      "[ 4 10 18]\n"
     ]
    }
   ],
   "source": [
    "product = a*b\n",
    "print(product)"
   ]
  },
  {
   "cell_type": "code",
   "execution_count": 58,
   "metadata": {},
   "outputs": [
    {
     "name": "stdout",
     "output_type": "stream",
     "text": [
      "[0.25 0.4  0.5 ]\n"
     ]
    }
   ],
   "source": [
    "division = a/b\n",
    "print(division)"
   ]
  },
  {
   "attachments": {
    "image.png": {
     "image/png": "[encoded data removed]"
    }
   },
   "cell_type": "markdown",
   "metadata": {},
   "source": [
    "# Broadcasting in NumPy:\n",
    "- Broadcasting in the context of NumPy arrays refers to the ability to perform arithemetic operations on arrays of different shapes. This feature allows NumPy to treat arrays with different dimensions during arithmetic operations which ensures compatible shapes without making unnecessary copies of data.\n",
    "\n",
    "# How it works?\n",
    "- Broadcasting works by streetching smaller array across the larger array so thaat they have compatible shapes. An example is given below:\n",
    "![image.png](attachment:image.png)"
   ]
  },
  {
   "cell_type": "code",
   "execution_count": 61,
   "metadata": {},
   "outputs": [
    {
     "name": "stdout",
     "output_type": "stream",
     "text": [
      "[2 4 6]\n"
     ]
    }
   ],
   "source": [
    "a = np.array([1,2,3])\n",
    "b = np.array([2])\n",
    "print(a*b)"
   ]
  },
  {
   "cell_type": "code",
   "execution_count": null,
   "metadata": {},
   "outputs": [],
   "source": []
  }
 ],
 "metadata": {
  "kernelspec": {
   "display_name": "venv",
   "language": "python",
   "name": "python3"
  },
  "language_info": {
   "codemirror_mode": {
    "name": "ipython",
    "version": 3
   },
   "file_extension": ".py",
   "mimetype": "text/x-python",
   "name": "python",
   "nbconvert_exporter": "python",
   "pygments_lexer": "ipython3",
   "version": "3.12.8"
  }
 },
 "nbformat": 4,
 "nbformat_minor": 2
}
